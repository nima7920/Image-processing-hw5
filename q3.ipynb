{
 "cells": [
  {
   "cell_type": "markdown",
   "metadata": {
    "collapsed": true,
    "pycharm": {
     "name": "#%% md\n"
    }
   },
   "source": [
    "## Question 3 : Multiresolution Blending and Feathering\n",
    "In this question we blend two given images using Laplacian stack and feathering.\n",
    "Algorithm is simple: first we create Gaussian stack for each image, then create\n",
    "Laplacian stack using Gaussian stack. We also create a stack of masks for blending.\n",
    "Then we blend the images in each level of the stack using their corresponding mask to get blended stack. Finally,\n",
    "We sum up all images in blended stack to get the final result.\n",
    "Functions used in the problem are implemented in `q3_funcs.py` and the main code of the problem is\n",
    "in `q3.py`"
   ]
  },
  {
   "cell_type": "markdown",
   "source": [
    "### q3_funcs\n",
    "First function simply uses GaussianBlur method in opencv to blur a given image :"
   ],
   "metadata": {
    "collapsed": false
   }
  },
  {
   "cell_type": "code",
   "execution_count": null,
   "outputs": [],
   "source": [
    "import numpy as np\n",
    "import cv2\n",
    "import matplotlib.pyplot as plt\n",
    "import scipy.signal as signal\n",
    "\n",
    "\n",
    "def blur_img(img, kernel_size, sigma):\n",
    "    result = cv2.GaussianBlur(img, (kernel_size, kernel_size), sigma)\n",
    "    return result"
   ],
   "metadata": {
    "collapsed": false,
    "pycharm": {
     "name": "#%%\n"
    }
   }
  },
  {
   "cell_type": "markdown",
   "source": [
    "Next two function generate Gaussian and Laplacian stack for a given image :\n"
   ],
   "metadata": {
    "collapsed": false
   }
  },
  {
   "cell_type": "code",
   "execution_count": null,
   "outputs": [],
   "source": [
    "def generate_gaussian_stack(img, kernel_size, sigma, stack_size):\n",
    "    result = []\n",
    "    result.append(img)\n",
    "    temp_img = img.copy()\n",
    "    for i in range(1, stack_size):\n",
    "        temp_img = blur_img(temp_img, kernel_size, sigma)\n",
    "        # print(\"blurred once\")\n",
    "        result.append(temp_img)\n",
    "    return result\n",
    "\n",
    "def generate_laplacian_stack(img, kernel_size, sigma, stack_size):\n",
    "    gaussian_pyramid = generate_gaussian_stack(img, kernel_size, sigma, stack_size)\n",
    "    result = []\n",
    "    for i in range(0, stack_size - 1):\n",
    "        temp = gaussian_pyramid[i].copy() - gaussian_pyramid[i + 1].copy()\n",
    "        result.append(temp)\n",
    "    result.append(gaussian_pyramid[-1].copy())\n",
    "    return result\n",
    "\n"
   ],
   "metadata": {
    "collapsed": false,
    "pycharm": {
     "name": "#%%\n"
    }
   }
  },
  {
   "cell_type": "markdown",
   "source": [
    "Function `generate_mask` creates a stack of masks. Each element of the stack is the result of\n",
    "blurring previous element, so in higher levels, we will have more intensive feathering"
   ],
   "metadata": {
    "collapsed": false
   }
  },
  {
   "cell_type": "code",
   "execution_count": null,
   "outputs": [],
   "source": [
    "def generate_masks(mask, kernel_size, sigma, size):\n",
    "    result = []\n",
    "    new_mask = blur_img(mask, kernel_size, sigma)\n",
    "    result.append(new_mask)\n",
    "    for i in range(size):\n",
    "        new_mask = blur_img(new_mask, kernel_size, sigma)\n",
    "        # plt.imshow(new_mask)\n",
    "        # plt.show()\n",
    "        result.append(new_mask)\n",
    "\n",
    "    return result\n",
    "\n"
   ],
   "metadata": {
    "collapsed": false,
    "pycharm": {
     "name": "#%%\n"
    }
   }
  },
  {
   "cell_type": "markdown",
   "source": [
    "Next function creates a stack of blended images, in the way described\n",
    "in the begining :"
   ],
   "metadata": {
    "collapsed": false
   }
  },
  {
   "cell_type": "code",
   "execution_count": null,
   "outputs": [],
   "source": [
    "def generate_blended_stack(img1, img2, masks, kernel_size, sigma, stack_size):\n",
    "    result = []\n",
    "    laplacian_stack1 = generate_laplacian_stack(img1, kernel_size, sigma, stack_size)\n",
    "    laplacian_stack2 = generate_laplacian_stack(img2, kernel_size, sigma, stack_size)\n",
    "    for i in range(stack_size):\n",
    "        blended_img = laplacian_stack1[i] * masks[i] + laplacian_stack2[i] * (1 - masks[i])\n",
    "        result.append(blended_img)\n",
    "    return result"
   ],
   "metadata": {
    "collapsed": false,
    "pycharm": {
     "name": "#%%\n"
    }
   }
  },
  {
   "cell_type": "markdown",
   "source": [
    "Final function `blend_images`, takes two images, a stack of masks, a kernel size and sigma for blurring and stack size\n",
    "as input, and outputs the resulting blended image:"
   ],
   "metadata": {
    "collapsed": false
   }
  },
  {
   "cell_type": "code",
   "execution_count": null,
   "outputs": [],
   "source": [
    "def blend_images(img1, img2, masks, kernel_size, sigma, stack_size):\n",
    "    blended_stack = generate_blended_stack(img1, img2, masks, kernel_size, sigma, stack_size)\n",
    "    result = blended_stack[0].copy()\n",
    "    for i in range(1, stack_size):\n",
    "        result = result + blended_stack[i]\n",
    "    return result\n"
   ],
   "metadata": {
    "collapsed": false,
    "pycharm": {
     "name": "#%%\n"
    }
   }
  },
  {
   "cell_type": "markdown",
   "source": [
    "Function `convert_from_float32_to_uint8` is used to scale an image\n",
    "from interval [0,1] to interval [0,255], with integer valued pixels :"
   ],
   "metadata": {
    "collapsed": false
   }
  },
  {
   "cell_type": "code",
   "execution_count": null,
   "outputs": [],
   "source": [
    "def convert_from_float32_to_uint8(img):\n",
    "    max_index, min_index = np.max(img), np.min(img)\n",
    "    a = 255 / (max_index - min_index)\n",
    "    b = 255 - a * max_index\n",
    "    result = (a * img + b).astype(np.uint8)\n",
    "    return result"
   ],
   "metadata": {
    "collapsed": false,
    "pycharm": {
     "name": "#%%\n"
    }
   }
  },
  {
   "cell_type": "markdown",
   "source": [
    "### q3.py\n",
    "In the main file, after reading images, we scale them to the range [0,1], apply above functions on them and rescaling the result\n",
    "back to range [0,255]"
   ],
   "metadata": {
    "collapsed": false
   }
  },
  {
   "cell_type": "code",
   "execution_count": null,
   "outputs": [],
   "source": [
    "import matplotlib.pyplot as plt\n",
    "import numpy as np\n",
    "import cv2 as cv\n",
    "import q3_funcs as funcs\n",
    "\n",
    "img1 = cv.imread(\"images/res08.jpg\")\n",
    "img2 = cv.imread(\"images/res09.jpg\")\n",
    "\n",
    "img_float1 = (img1 / 255).astype('float32')\n",
    "img_float2 = (img2 / 255).astype('float32')\n",
    "\n",
    "kernel_size, sigma, n = 151, 30, 10\n",
    "img_list = funcs.generate_gaussian_stack(img1, kernel_size, sigma, n)\n",
    "lap_list = funcs.generate_laplacian_stack(img1, kernel_size, sigma, n)\n",
    "\n",
    "''' creating masks '''\n",
    "h, w = img1.shape[0], img1.shape[1]\n",
    "mask = np.zeros(img1.shape, dtype='float32')\n",
    "mask[:, 0:400] = 1\n",
    "masks = funcs.generate_masks(mask, 151, 30, n)\n",
    "\n",
    "result = funcs.blend_images(img_float1, img_float2, masks, kernel_size, sigma, n)\n",
    "result = funcs.convert_from_float32_to_uint8(result)\n",
    "cv.imwrite(\"images/res10.jpg\", result)\n",
    "\n"
   ],
   "metadata": {
    "collapsed": false,
    "pycharm": {
     "name": "#%%\n"
    }
   }
  }
 ],
 "metadata": {
  "kernelspec": {
   "display_name": "Python 3",
   "language": "python",
   "name": "python3"
  },
  "language_info": {
   "codemirror_mode": {
    "name": "ipython",
    "version": 2
   },
   "file_extension": ".py",
   "mimetype": "text/x-python",
   "name": "python",
   "nbconvert_exporter": "python",
   "pygments_lexer": "ipython2",
   "version": "2.7.6"
  }
 },
 "nbformat": 4,
 "nbformat_minor": 0
}