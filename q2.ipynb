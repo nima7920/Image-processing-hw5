{
 "cells": [
  {
   "cell_type": "markdown",
   "metadata": {
    "collapsed": true,
    "pycharm": {
     "name": "#%% md\n"
    }
   },
   "source": [
    "## Question 2 : Poisson Blending\n",
    "In this question, we blend an image into another image using Poisson blending\n",
    "method.\n",
    "Target and source images both have n pixels, and we also have a mask. We create a vector matrix b\n",
    "with n elements, each element corresponding to one pixel in target.\n",
    "If a pixel is in the mask, its corresponding element in b will be the Laplacian of\n",
    "source in that pixel. Otherwise, it will be the value of that pixel in target.\n",
    "After creating b, we also create an $n \\times n$ sparse matrix $A$,\n",
    "which is the coefficient matrix of the equations used for computing final image.\n",
    "Since $A$ is sparse, we use sparse matrix data structure implemented in `scipy.sparse` for\n",
    "working with it.\n",
    "Finally, we solve the least square error problem $Af=b$. Result $n \\times 1$ vector\n",
    "$f$ contains the value of each pixel in the blended image.\n",
    "Functions are implemented in `q2_funcs.py`, and main code of the problem is\n",
    "in `q2.py`"
   ]
  },
  {
   "cell_type": "code",
   "execution_count": null,
   "outputs": [],
   "source": [
    "import matplotlib.pyplot as plt\n",
    "import numpy as np\n",
    "import cv2\n",
    "import scipy.sparse.linalg as sparse_la\n",
    "from scipy import sparse\n"
   ],
   "metadata": {
    "collapsed": false,
    "pycharm": {
     "name": "#%%\n"
    }
   }
  },
  {
   "cell_type": "markdown",
   "source": [
    "First function simply computes the Laplacian of an image:"
   ],
   "metadata": {
    "collapsed": false
   }
  },
  {
   "cell_type": "code",
   "execution_count": null,
   "outputs": [],
   "source": [
    "def get_laplacian(img):\n",
    "    kernel = np.asarray([[0, -1, 0], [-1, 4, -1], [0, -1, 0]], dtype='float32')\n",
    "    result = cv2.filter2D(img, ddepth=-1, kernel=kernel)\n",
    "    return result\n"
   ],
   "metadata": {
    "collapsed": false,
    "pycharm": {
     "name": "#%%\n"
    }
   }
  },
  {
   "cell_type": "markdown",
   "source": [
    "Function `generate_matrix_b` creates matrix $b$, just in the way explained in the begining:\n",
    "\n"
   ],
   "metadata": {
    "collapsed": false
   }
  },
  {
   "cell_type": "code",
   "execution_count": null,
   "outputs": [],
   "source": [
    "def generate_matrix_b(source, target, mask):\n",
    "    source_laplacian_flatten = get_laplacian(source).flatten('C')\n",
    "    target_flatten = target.flatten('C')\n",
    "    mask_flatten = mask.flatten('C')\n",
    "    b = (mask_flatten) * source_laplacian_flatten + (1 - mask_flatten) * target_flatten\n",
    "    return b\n"
   ],
   "metadata": {
    "collapsed": false,
    "pycharm": {
     "name": "#%%\n"
    }
   }
  },
  {
   "cell_type": "markdown",
   "source": [
    "`generate_matrix_A` creates coefficient matrix $A$:"
   ],
   "metadata": {
    "collapsed": false
   }
  },
  {
   "cell_type": "code",
   "execution_count": null,
   "outputs": [],
   "source": [
    "def generate_matrix_A(mask):\n",
    "    data, cols, rows = [], [], []\n",
    "    h, w = mask.shape[0], mask.shape[1]\n",
    "    mask_flatten = mask.flatten('C')\n",
    "    zeros = np.where(mask_flatten == 0)\n",
    "    ones = np.where(mask_flatten == 1)\n",
    "    # adding ones to data\n",
    "    n = zeros[0].size\n",
    "    data.extend(np.ones(n, dtype='float32').tolist())\n",
    "    rows.extend(zeros[0].tolist())\n",
    "    cols.extend(zeros[0].tolist())\n",
    "\n",
    "    # adding 4s to data\n",
    "    m = ones[0].size\n",
    "    data.extend((np.ones(m, dtype='float32') * (4)).tolist())\n",
    "    rows.extend(ones[0].tolist())\n",
    "    cols.extend(ones[0].tolist())\n",
    "\n",
    "    # adding -1s\n",
    "    data.extend((np.ones(m, dtype='float32') * (-1)).tolist())\n",
    "    rows.extend(ones[0].tolist())\n",
    "    cols.extend((ones[0] - 1).tolist())\n",
    "\n",
    "    data.extend((np.ones(m, dtype='float32') * (-1)).tolist())\n",
    "    rows.extend(ones[0].tolist())\n",
    "    cols.extend((ones[0] + 1).tolist())\n",
    "\n",
    "    data.extend((np.ones(m, dtype='float32') * (-1)).tolist())\n",
    "    rows.extend(ones[0].tolist())\n",
    "    cols.extend((ones[0] - w).tolist())\n",
    "\n",
    "    data.extend((np.ones(m, dtype='float32') * (-1)).tolist())\n",
    "    rows.extend(ones[0].tolist())\n",
    "    cols.extend((ones[0] + w).tolist())\n",
    "    return data, cols, rows"
   ],
   "metadata": {
    "collapsed": false,
    "pycharm": {
     "name": "#%%\n"
    }
   }
  },
  {
   "cell_type": "markdown",
   "source": [
    "Next function solves the LSE problem $Af=b$ and returns $f$"
   ],
   "metadata": {
    "collapsed": false
   }
  },
  {
   "cell_type": "code",
   "execution_count": null,
   "outputs": [],
   "source": [
    "def solve_sparse_linear_equation(data, cols, rows, b, h, w):\n",
    "    sparse_matrix = sparse.csc_matrix((data, (rows, cols)), shape=(h * w, h * w), dtype='float32')\n",
    "    f = sparse_la.spsolve(sparse_matrix, b)\n",
    "    f = np.reshape(f, (h, w)).astype('float32')\n",
    "    return f"
   ],
   "metadata": {
    "collapsed": false,
    "pycharm": {
     "name": "#%%\n"
    }
   }
  },
  {
   "cell_type": "markdown",
   "source": [
    "Final function `blend_images` takes source,target and mask as input and applies blending, using above functions :"
   ],
   "metadata": {
    "collapsed": false
   }
  },
  {
   "cell_type": "code",
   "execution_count": null,
   "outputs": [],
   "source": [
    "def blend_images(source, target, mask):\n",
    "    h, w = source.shape[0], source.shape[1]\n",
    "    source_b, source_g, source_r = cv2.split(source)\n",
    "    target_b, target_g, target_r = cv2.split(target)\n",
    "    data, cols, rows = generate_matrix_A(mask)\n",
    "    b_b = generate_matrix_b(source_b, target_b, mask)\n",
    "    b_g = generate_matrix_b(source_g, target_g, mask)\n",
    "    b_r = generate_matrix_b(source_r, target_r, mask)\n",
    "    # temp = cv2.merge((np.reshape(b_r, (h, w)), np.reshape(b_g, (h, w)), np.reshape(b_b, (h, w))))\n",
    "    # plt.imshow(temp)\n",
    "    # plt.show()\n",
    "    blended_b = solve_sparse_linear_equation(data, cols, rows, b_b, h, w)\n",
    "    # plt.imshow(blended_b, cmap='gray')\n",
    "    # plt.show()\n",
    "    blended_g = solve_sparse_linear_equation(data, cols, rows, b_g, h, w)\n",
    "    # plt.imshow(blended_g, cmap='gray')\n",
    "    # plt.show()\n",
    "    blended_r = solve_sparse_linear_equation(data, cols, rows, b_r, h, w)\n",
    "    # plt.imshow(blended_r, cmap='gray')\n",
    "    # plt.show()\n",
    "    result = cv2.merge((blended_b, blended_g, blended_r))\n",
    "    # plt.imshow(result)\n",
    "    # plt.show()\n",
    "    return result"
   ],
   "metadata": {
    "collapsed": false,
    "pycharm": {
     "name": "#%%\n"
    }
   }
  },
  {
   "cell_type": "markdown",
   "source": [
    "### `q2.py`\n",
    "In the main file, after reading images, we scale them to the range [0,1], apply above functions on them and rescaling the result\n",
    "back to range [0,255]"
   ],
   "metadata": {
    "collapsed": false
   }
  },
  {
   "cell_type": "code",
   "execution_count": null,
   "outputs": [],
   "source": [
    "import numpy as np\n",
    "import cv2\n",
    "import q2_funcs as funcs\n",
    "\n",
    "img1 = cv2.imread(\"images/res05.jpg\")\n",
    "img2 = cv2.imread(\"images/res06.jpg\")\n",
    "\n",
    "img1 = (img1 / 255).astype('float32')\n",
    "img2 = (img2 / 255).astype('float32')\n",
    "\n",
    "source = img1[195:485, 355:715, :].astype('float32')\n",
    "target = img2[195:485, 355:715, :].astype('float32')\n",
    "\n",
    "mask = np.zeros((290, 360), dtype='float32')\n",
    "mask[5:-5, 5:-5] = 1\n",
    "\n",
    "max_matrix, min_matrix = np.ones(source.shape, dtype='float32') * 255, np.zeros(source.shape, dtype='float32')\n",
    "result = funcs.blend_images(source, target, mask) * 255\n",
    "result = np.minimum(result, max_matrix)\n",
    "result = np.maximum(result, min_matrix)\n",
    "result = result.astype('uint8')\n",
    "final_result = (img2.copy() * 255).astype('uint8')\n",
    "final_result[195:485, 355:715, :] = result\n",
    "cv2.imwrite(\"images/res07.jpg\", final_result)\n",
    "\n"
   ],
   "metadata": {
    "collapsed": false,
    "pycharm": {
     "name": "#%%\n"
    }
   }
  }
 ],
 "metadata": {
  "kernelspec": {
   "display_name": "Python 3",
   "language": "python",
   "name": "python3"
  },
  "language_info": {
   "codemirror_mode": {
    "name": "ipython",
    "version": 2
   },
   "file_extension": ".py",
   "mimetype": "text/x-python",
   "name": "python",
   "nbconvert_exporter": "python",
   "pygments_lexer": "ipython2",
   "version": "2.7.6"
  }
 },
 "nbformat": 4,
 "nbformat_minor": 0
}