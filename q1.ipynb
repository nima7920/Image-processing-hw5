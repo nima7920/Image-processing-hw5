{
 "cells": [
  {
   "cell_type": "markdown",
   "metadata": {
    "collapsed": true,
    "pycharm": {
     "name": "#%% md\n"
    }
   },
   "source": [
    "## Question 1: Morphing\n",
    "#### abstract\n",
    "In this question, we implement image morphing for two face images (with the same size ) in following steps:\n",
    "<div>\n",
    "<ol>\n",
    "<li>\n",
    "Find corresponding points between images\n",
    "<li>\n",
    "Apply Delaunay triangulation algorithm for points in the first image\n",
    "and get triangles\n",
    "<li>\n",
    "For each morph image, fill each triagle with a linear combination of corresponding\n",
    "triangles in first and last image, using Affine transform and warping\n",
    "</ol>\n",
    "</div>\n",
    "Functions used in the question are implemented in `q1_funcs.py`, and main code is in\n",
    "`q1.py`."
   ]
  },
  {
   "cell_type": "markdown",
   "source": [
    "### `q1_funcs.py`\n",
    "Following libraries are used in this file :"
   ],
   "metadata": {
    "collapsed": false
   }
  },
  {
   "cell_type": "code",
   "execution_count": null,
   "outputs": [],
   "source": [
    "import matplotlib.pyplot as plt\n",
    "import numpy as np\n",
    "import cv2\n",
    "from scipy.spatial import Delaunay\n"
   ],
   "metadata": {
    "collapsed": false,
    "pycharm": {
     "name": "#%%\n"
    }
   }
  },
  {
   "cell_type": "markdown",
   "source": [
    "First function is used to read points from file. Corresponding points between\n",
    "images are written in files `leo.txt` and `tom.txt`.\n"
   ],
   "metadata": {
    "collapsed": false
   }
  },
  {
   "cell_type": "code",
   "execution_count": null,
   "outputs": [],
   "source": [
    "def read_points(file):\n",
    "    f = open(file)\n",
    "    n = int(f.readline())\n",
    "    points = []\n",
    "    for line in f.readlines():\n",
    "        point = line.split(\" \")\n",
    "        [x, y] = int(point[0]), int(point[1])\n",
    "        points.append([x, y])\n",
    "    return n, points\n",
    "\n"
   ],
   "metadata": {
    "collapsed": false,
    "pycharm": {
     "name": "#%%\n"
    }
   }
  },
  {
   "cell_type": "markdown",
   "source": [
    "Next function generates and inserts 8 additional points, four corners\n",
    "of the image and midpoint of sides of the rectangle containing the image"
   ],
   "metadata": {
    "collapsed": false
   }
  },
  {
   "cell_type": "code",
   "execution_count": null,
   "outputs": [],
   "source": [
    "def generate_additional_points(img):\n",
    "    h, w = img.shape[0], img.shape[1]\n",
    "    h2, w2 = h // 2, w // 2\n",
    "    points = [[0, 0], [0, h2], [0, h - 1], [w2, h - 1], [w - 1, h - 1], [w - 1, h2], [w - 1, 0], [w2, 0]]\n",
    "    return points"
   ],
   "metadata": {
    "collapsed": false,
    "pycharm": {
     "name": "#%%\n"
    }
   }
  },
  {
   "cell_type": "markdown",
   "source": [
    "Function `delaunay_triangulation` simply uses Delaunay library in scipy\n",
    "to perform triangulations"
   ],
   "metadata": {
    "collapsed": false
   }
  },
  {
   "cell_type": "code",
   "execution_count": null,
   "outputs": [],
   "source": [
    "def delaunay_triangulation(points):\n",
    "    triangles = Delaunay(points)\n",
    "    return triangles"
   ],
   "metadata": {
    "collapsed": false,
    "pycharm": {
     "name": "#%%\n"
    }
   }
  },
  {
   "cell_type": "markdown",
   "source": [
    "`find_morphed_triangle_points` gets as input, selected points in first and last image and a coefficient alpha,\n",
    "and returns a new list which contains corresponding points in the morphed image"
   ],
   "metadata": {
    "collapsed": false
   }
  },
  {
   "cell_type": "code",
   "execution_count": null,
   "outputs": [],
   "source": [
    "def find_morphed_triangle_points(points1, points2, alpha):\n",
    "    result = []\n",
    "    for i in range(points1.shape[0]):\n",
    "        x = int((1 - alpha) * points1[i, 0] + alpha * points2[i, 0])\n",
    "        y = int((1 - alpha) * points1[i, 1] + alpha * points2[i, 1])\n",
    "        result.append([x, y])\n",
    "    return np.asarray(result)\n"
   ],
   "metadata": {
    "collapsed": false,
    "pycharm": {
     "name": "#%%\n"
    }
   }
  },
  {
   "cell_type": "markdown",
   "source": [
    "Function `morph_triangles` takes a source image, a triangle in source image and a\n",
    "triangle in destination image as input, computes the Affine transform taking first triangle to second ,\n",
    "and warps the source. It also returns a mask of destination triangle"
   ],
   "metadata": {
    "collapsed": false
   }
  },
  {
   "cell_type": "code",
   "execution_count": null,
   "outputs": [],
   "source": [
    "def morph_triangles(img, tri_src, tri_dst):\n",
    "    mask = np.zeros(img.shape, dtype='uint8')\n",
    "    M = cv2.getAffineTransform(tri_src, tri_dst)\n",
    "    dest = cv2.warpAffine(img, M, (img.shape[1], img.shape[0]), None, flags=cv2.INTER_LINEAR,\n",
    "                          borderMode=cv2.BORDER_REFLECT_101)\n",
    "    cv2.fillConvexPoly(mask, tri_dst.astype('int'), (1.0, 1.0, 1.0), 16, 0)\n",
    "    result = dest\n",
    "    return result, mask\n"
   ],
   "metadata": {
    "collapsed": false,
    "pycharm": {
     "name": "#%%\n"
    }
   }
  },
  {
   "cell_type": "markdown",
   "source": [
    "`generate_morphed_image` takes two images, their corresponding points, a triangulation on the first image and\n",
    "a coefficient alpha as input, and creates a morphed image from given images with ration alpha"
   ],
   "metadata": {
    "collapsed": false
   }
  },
  {
   "cell_type": "code",
   "execution_count": null,
   "outputs": [],
   "source": [
    "def generate_morphed_image(img1, img2, points1, points2, triangles, alpha):\n",
    "    mean_points = find_morphed_triangle_points(points1, points2, alpha)\n",
    "    tri1 = triangles.simplices\n",
    "    result = np.zeros(img1.shape, dtype='uint8')\n",
    "    for tri in tri1:\n",
    "        tri_points1 = np.asarray([points1[tri[0]], points1[tri[1]], points1[tri[2]]], dtype='float32')\n",
    "        tri_points2 = np.asarray([points2[tri[0]], points2[tri[1]], points2[tri[2]]], dtype='float32')\n",
    "        tri_points_morph = np.asarray([mean_points[tri[0]], mean_points[tri[1]], mean_points[tri[2]]], dtype='float32')\n",
    "\n",
    "        result1, mask = morph_triangles(img1, tri_points1, tri_points_morph)\n",
    "        result2, mask = morph_triangles(img2, tri_points2, tri_points_morph)\n",
    "        result = (result * (1 - mask) + (alpha * result2 + (1 - alpha) * result1) * mask).astype('uint8')\n",
    "\n",
    "    return result\n"
   ],
   "metadata": {
    "collapsed": false,
    "pycharm": {
     "name": "#%%\n"
    }
   }
  },
  {
   "cell_type": "markdown",
   "source": [
    "Final function `generate_morphing_list` takes two image, their corresponding points and number of frames\n",
    "as input and returns a list containing the morphed images between given images"
   ],
   "metadata": {
    "collapsed": false
   }
  },
  {
   "cell_type": "code",
   "execution_count": null,
   "outputs": [],
   "source": [
    "def generate_morphing_list(img1, img2, points1, points2, num_of_frames):\n",
    "    result = []\n",
    "    triangles = delaunay_triangulation(points1)\n",
    "    delta, alpha = 1.0 / num_of_frames, 0.0\n",
    "    while alpha < 1:\n",
    "        img_morph = generate_morphed_image(img1, img2, points1, points2, triangles, alpha)\n",
    "        result.append(img_morph)\n",
    "        alpha += delta\n",
    "    return result\n"
   ],
   "metadata": {
    "collapsed": false,
    "pycharm": {
     "name": "#%%\n"
    }
   }
  },
  {
   "cell_type": "markdown",
   "source": [
    "Function `generate_video` creates a video from a given list of images"
   ],
   "metadata": {
    "collapsed": false
   }
  },
  {
   "cell_type": "code",
   "execution_count": null,
   "outputs": [],
   "source": [
    "def generate_video(results, output_path, size, fps):\n",
    "    video = cv2.VideoWriter(output_path, cv2.VideoWriter_fourcc(*'DIVX'), fps, size)\n",
    "    for img in results:\n",
    "        video.write(img)\n",
    "    video.release()"
   ],
   "metadata": {
    "collapsed": false,
    "pycharm": {
     "name": "#%%\n"
    }
   }
  },
  {
   "cell_type": "markdown",
   "source": [
    "### q1.py\n",
    "Our main file simply uses above functions to perform morphing between two images"
   ],
   "metadata": {
    "collapsed": false
   }
  },
  {
   "cell_type": "code",
   "execution_count": null,
   "outputs": [],
   "source": [
    "import numpy as np\n",
    "import cv2\n",
    "import q1_funcs as funcs\n",
    "\n",
    "img1 = cv2.imread(\"images/res01.jpg\")\n",
    "img2 = cv2.imread(\"images/res02.jpg\")\n",
    "\n",
    "''' reading points'''\n",
    "n, points1 = funcs.read_points(\"images/tom.txt\")\n",
    "n, points2 = funcs.read_points(\"images/leo.txt\")\n",
    "\n",
    "''' extending points '''\n",
    "points1.extend(funcs.generate_additional_points(img1))\n",
    "points2.extend(funcs.generate_additional_points(img2))\n",
    "\n",
    "points1 = np.asarray(points1, dtype='int')\n",
    "points2 = np.asarray(points2, dtype='int')\n",
    "\n",
    "''' creating final result '''\n",
    "result = []\n",
    "images = funcs.generate_morphing_list(img1, img2, points1, points2, 45)\n",
    "cv2.imwrite(\"images/res03.jpg\", images[15])\n",
    "cv2.imwrite(\"images/res04.jpg\", images[30])\n",
    "result.extend(images)\n",
    "images.reverse()\n",
    "result.extend(images)\n",
    "funcs.generate_video(result, \"images/morph.mp4\", (img1.shape[1], img2.shape[0]), 30)\n"
   ],
   "metadata": {
    "collapsed": false,
    "pycharm": {
     "name": "#%%\n"
    }
   }
  }
 ],
 "metadata": {
  "kernelspec": {
   "display_name": "Python 3",
   "language": "python",
   "name": "python3"
  },
  "language_info": {
   "codemirror_mode": {
    "name": "ipython",
    "version": 2
   },
   "file_extension": ".py",
   "mimetype": "text/x-python",
   "name": "python",
   "nbconvert_exporter": "python",
   "pygments_lexer": "ipython2",
   "version": "2.7.6"
  }
 },
 "nbformat": 4,
 "nbformat_minor": 0
}